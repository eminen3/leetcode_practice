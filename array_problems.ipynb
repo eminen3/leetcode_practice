{
 "cells": [
  {
   "cell_type": "code",
   "execution_count": 39,
   "metadata": {},
   "outputs": [
    {
     "name": "stdout",
     "output_type": "stream",
     "text": [
      "Target:  5 Position:  2\n",
      "Target:  2 Position:  1\n",
      "Target:  0 Position:  0\n",
      "Target:  7 Position:  4\n"
     ]
    }
   ],
   "source": [
    "# 35. Search Insert Position\n",
    "def searchInsert(nums, target):\n",
    "    for i in range(0,len(nums)):\n",
    "        if target == nums[i]:\n",
    "            return i\n",
    "        elif target > nums[i]:\n",
    "            pass\n",
    "        elif target < nums[i]:\n",
    "            return i\n",
    "                \n",
    "    if i == len(nums)-1:\n",
    "        return i + 1\n",
    "            \n",
    "        \n",
    "nums = [1,3,5,6]\n",
    "\n",
    "for target in [5,2,0,7]:\n",
    "    print(\"Target: \", target, \"Position: \", searchInsert(nums, target))\n"
   ]
  },
  {
   "cell_type": "code",
   "execution_count": 72,
   "metadata": {},
   "outputs": [
    {
     "name": "stdout",
     "output_type": "stream",
     "text": [
      "-1\n",
      "0\n",
      "[1, 0, 0, 0, 0]\n"
     ]
    }
   ],
   "source": [
    "# 66 Plus One\n",
    "\n",
    "def plusOne(digits):\n",
    "    \n",
    "    output = digits\n",
    "    carry = 0\n",
    "    \n",
    "    if digits[-1] < 9:\n",
    "        output[-1] = output[-1] + 1\n",
    "    elif digits[-1] == 9:\n",
    "        carry = 1\n",
    "        output[-1] = 0\n",
    "        \n",
    "    i = len(digits) - 2\n",
    "    \n",
    "    while carry != 0 and i >= 0:\n",
    "        if output[i] < 9:\n",
    "            output[i] = output[i] + 1\n",
    "            carry = 0\n",
    "        elif output[i] == 9:\n",
    "            output[i] = 0\n",
    "            carry = 1\n",
    "            i -= 1\n",
    "            \n",
    "    if carry == 1:\n",
    "        new_output = [1]\n",
    "        new_output.extend(output)\n",
    "        output = new_output\n",
    "            \n",
    "    return output\n",
    "    \n",
    "digits = [9,9,9,9]\n",
    "print(plusOne(digits))"
   ]
  },
  {
   "cell_type": "code",
   "execution_count": 8,
   "metadata": {},
   "outputs": [
    {
     "data": {
      "text/plain": [
       "5"
      ]
     },
     "execution_count": 8,
     "metadata": {},
     "output_type": "execute_result"
    }
   ],
   "source": [
    "# 509 Fibonacci number\n",
    "\n",
    "def fib(N):\n",
    "    if N == 0:\n",
    "        return 0\n",
    "    elif N == 1:\n",
    "        return 1\n",
    "    else:\n",
    "        return (fib(N - 1) + fib(N - 2))\n",
    "\n",
    "fib(5)\n",
    "\n",
    "## Recursion is bad here!!"
   ]
  },
  {
   "cell_type": "code",
   "execution_count": 20,
   "metadata": {},
   "outputs": [
    {
     "data": {
      "text/plain": [
       "49"
      ]
     },
     "execution_count": 20,
     "metadata": {},
     "output_type": "execute_result"
    }
   ],
   "source": [
    "# 11 Container with most water\n",
    "def maxArea(height):\n",
    "    \n",
    "    max_area = 0\n",
    "    for i in range(1,len(height)+1):\n",
    "        for j in range(i+1,len(height)+1):\n",
    "            cur_area = (j-i)*(min(height[j-1],height[i-1]))\n",
    "            if cur_area > max_area:\n",
    "                max_area = cur_area\n",
    "    return max_area\n",
    "\n",
    "def maxArea1(height):\n",
    "    \n",
    "    i = 1\n",
    "    j = len(height)\n",
    "    max_area = 0\n",
    "    \n",
    "    while(j-i>0):\n",
    "        cur_area = (j-i)*(min(height[j-1],height[i-1]))\n",
    "        if cur_area > max_area:\n",
    "            max_area = cur_area\n",
    "        if height[j-1] > height[i-1]:\n",
    "            i += 1\n",
    "        else:\n",
    "            j -= 1\n",
    "    \n",
    "    return max_area\n",
    "    \n",
    "    \n",
    "height = [1,8,6,2,5,4,8,3,7]\n",
    "maxArea1(height)"
   ]
  },
  {
   "cell_type": "code",
   "execution_count": 44,
   "metadata": {},
   "outputs": [
    {
     "data": {
      "text/plain": [
       "[[12, 13, 5], [12, 9, 15], [4, 3, 5], [17, 15, 8]]"
      ]
     },
     "execution_count": 44,
     "metadata": {},
     "output_type": "execute_result"
    }
   ],
   "source": [
    "# Given a list of integers find all the pythagorean triplets\n",
    "def findPythagoreanTriplets(integers):\n",
    "    \n",
    "    triplets = []\n",
    "    \n",
    "    for i in range(0,len(integers)-2):\n",
    "        for j in range(i+1,len(integers)-1):\n",
    "            for k in range(j+1,len(integers)):\n",
    "                if integers[i]**2 + integers[j]**2 == integers[k]**2 or integers[i]**2 + integers[k]**2 == integers[j]**2 or integers[i]**2 == integers[j]**2 + integers[k]**2:\n",
    "\n",
    "                    triplets.append([integers[i],integers[j],integers[k]])\n",
    "                    \n",
    "    return triplets\n",
    "\n",
    "integers = [2,12,13,4,17,3,9,5,15,8]\n",
    "findPythagoreanTriplets(integers)      "
   ]
  },
  {
   "cell_type": "code",
   "execution_count": 90,
   "metadata": {},
   "outputs": [
    {
     "name": "stdout",
     "output_type": "stream",
     "text": [
      "current element []\n",
      "1\n",
      "current element 1\n",
      "2\n",
      "current element 1\n",
      "3\n",
      "current element 1\n",
      "current element 2\n",
      "2\n",
      "current element 2\n",
      "2\n",
      "current element 2\n"
     ]
    }
   ],
   "source": [
    "def findNotRepeatingThrice(string1):\n",
    "    sum = 0\n",
    "    refresh = 1\n",
    "    cur_element = []\n",
    "    for i in string1:\n",
    "        print(\"current element\", cur_element)\n",
    "        if refresh == 1:\n",
    "            print(i)\n",
    "            cur_element = i\n",
    "            sum = 1\n",
    "            refresh = 0\n",
    "        elif i == cur_element:\n",
    "            sum += 1\n",
    "            print(sum)\n",
    "        elif i != cur_element and sum == 3:\n",
    "            cur_element = i\n",
    "            refresh = 1\n",
    "        elif i != cur_element and sum != 3:\n",
    "            #print(i)\n",
    "            refresh = 1\n",
    "            cur_element = i\n",
    "            return i\n",
    "            \n",
    "        \n",
    "\n",
    "string1 = \"11122233344555\"\n",
    "answer = findNotRepeatingThrice(string1)\n",
    "#print(answer)\n"
   ]
  },
  {
   "cell_type": "code",
   "execution_count": 82,
   "metadata": {},
   "outputs": [
    {
     "name": "stdout",
     "output_type": "stream",
     "text": [
      "17\n"
     ]
    }
   ],
   "source": [
    "def findSumofSubarrayMinimums(numbers):\n",
    "    subArrays = []\n",
    "    max_length = len(numbers)\n",
    "    \n",
    "    for i in range(0,max_length):\n",
    "        for j in range(0,max_length+1):\n",
    "            if len(numbers[i:j])> 0: \n",
    "                subArrays.append(min(numbers[i:j]))\n",
    "\n",
    "    return sum(subArrays)\n",
    "\n",
    "        \n",
    "\n",
    "print(findSumofSubarrayMinimums(numbers))\n",
    "numbers = [3,1,2,4]"
   ]
  },
  {
   "cell_type": "code",
   "execution_count": 88,
   "metadata": {},
   "outputs": [
    {
     "name": "stdout",
     "output_type": "stream",
     "text": [
      "[2]\n",
      "[2, 1]\n",
      "[2, 1, 3]\n",
      "[1]\n",
      "[1, 3]\n",
      "[3]\n"
     ]
    }
   ],
   "source": [
    "def sumOfSubsequenceWidths(numbers):\n",
    "    subSequences = []\n",
    "    max_length = len(numbers)\n",
    "    \n",
    "    for i in range(0,max_length):\n",
    "        for j in range(0,max_length+1):\n",
    "            if len(numbers[i:j])> 0:\n",
    "                print(numbers[i:j])\n",
    "\n",
    "\n",
    "numbers = [2,1,3]\n",
    "sumOfSubsequenceWidths(numbers)"
   ]
  },
  {
   "cell_type": "code",
   "execution_count": null,
   "metadata": {
    "collapsed": true
   },
   "outputs": [],
   "source": []
  },
  {
   "cell_type": "code",
   "execution_count": null,
   "metadata": {
    "collapsed": true
   },
   "outputs": [],
   "source": []
  }
 ],
 "metadata": {
  "kernelspec": {
   "display_name": "Python 3",
   "language": "python",
   "name": "python3"
  },
  "language_info": {
   "codemirror_mode": {
    "name": "ipython",
    "version": 3
   },
   "file_extension": ".py",
   "mimetype": "text/x-python",
   "name": "python",
   "nbconvert_exporter": "python",
   "pygments_lexer": "ipython3",
   "version": "3.7.0"
  }
 },
 "nbformat": 4,
 "nbformat_minor": 2
}
